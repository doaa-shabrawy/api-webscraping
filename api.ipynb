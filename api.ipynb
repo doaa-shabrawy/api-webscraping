{
 "cells": [
  {
   "cell_type": "code",
   "execution_count": 19,
   "metadata": {},
   "outputs": [
    {
     "data": {
      "text/html": [
       "<div>\n",
       "<style scoped>\n",
       "    .dataframe tbody tr th:only-of-type {\n",
       "        vertical-align: middle;\n",
       "    }\n",
       "\n",
       "    .dataframe tbody tr th {\n",
       "        vertical-align: top;\n",
       "    }\n",
       "\n",
       "    .dataframe thead th {\n",
       "        text-align: right;\n",
       "    }\n",
       "</style>\n",
       "<table border=\"1\" class=\"dataframe\">\n",
       "  <thead>\n",
       "    <tr style=\"text-align: right;\">\n",
       "      <th></th>\n",
       "      <th>id</th>\n",
       "      <th>Drug_name</th>\n",
       "      <th>Country_Source</th>\n",
       "      <th>Patient_Age</th>\n",
       "      <th>Drug_Reaction</th>\n",
       "    </tr>\n",
       "  </thead>\n",
       "  <tbody>\n",
       "    <tr>\n",
       "      <th>0</th>\n",
       "      <td>1</td>\n",
       "      <td>DURAGESIC-100</td>\n",
       "      <td>CANADA</td>\n",
       "      <td>26</td>\n",
       "      <td>OVERDOSE</td>\n",
       "    </tr>\n",
       "    <tr>\n",
       "      <th>1</th>\n",
       "      <td>2</td>\n",
       "      <td>BONIVA</td>\n",
       "      <td>US</td>\n",
       "      <td>77</td>\n",
       "      <td>Diarrhoea</td>\n",
       "    </tr>\n",
       "  </tbody>\n",
       "</table>\n",
       "</div>"
      ],
      "text/plain": [
       "   id      Drug_name Country_Source  Patient_Age Drug_Reaction\n",
       "0   1  DURAGESIC-100         CANADA           26      OVERDOSE\n",
       "1   2         BONIVA             US           77     Diarrhoea"
      ]
     },
     "execution_count": 19,
     "metadata": {},
     "output_type": "execute_result"
    }
   ],
   "source": [
    "#api_key=5UtpyZ8eNmu0CUkAo132bZ3SqreOnerVsiJtOPQX\n",
    "#this api show the drug testing \n",
    "import requests\n",
    "import pandas as pd\n",
    "res = requests.get(\"https://api.fda.gov/drug/event.json?api_key=5UtpyZ8eNmu0CUkAo132bZ3SqreOnerVsiJtOPQX&limit=2\")\n",
    "my_data = res.json()\n",
    "drug_name = []\n",
    "country_source = []\n",
    "patient_age = []\n",
    "drug_reaction = []\n",
    "for i in range(len(my_data)):\n",
    "        drug_name.append(my_data[\"results\"][i][\"patient\"][\"drug\"][0][\"medicinalproduct\"]) \n",
    "        country_source.append(my_data[\"results\"][i][\"primarysource\"][\"reportercountry\"]) \n",
    "        patient_age.append(my_data[\"results\"][i][\"patient\"][\"patientonsetage\"])\n",
    "        drug_reaction.append(my_data[\"results\"][i][\"patient\"][\"reaction\"][1][\"reactionmeddrapt\"])\n",
    "\n",
    "\n",
    "\n",
    "\n",
    "with open(\"drugs.csv\", mode=\"w\",encoding=\"utf-8\") as fd :\n",
    "    fd.write(\"id,Drug_name,Country_Source,Patient_Age,Drug_Reaction\\n\")\n",
    "    for i in range(len(my_data)):\n",
    "          fd.write(f\"{i+1},{drug_name[i]},{country_source[i]},{patient_age[i]},{drug_reaction[i]}\\n\")\n",
    "drugs_df = pd.read_csv(\"drugs.csv\")\n",
    "drugs_df          \n",
    "   \n"
   ]
  },
  {
   "cell_type": "code",
   "execution_count": 9,
   "metadata": {},
   "outputs": [
    {
     "data": {
      "text/html": [
       "<div>\n",
       "<style scoped>\n",
       "    .dataframe tbody tr th:only-of-type {\n",
       "        vertical-align: middle;\n",
       "    }\n",
       "\n",
       "    .dataframe tbody tr th {\n",
       "        vertical-align: top;\n",
       "    }\n",
       "\n",
       "    .dataframe thead th {\n",
       "        text-align: right;\n",
       "    }\n",
       "</style>\n",
       "<table border=\"1\" class=\"dataframe\">\n",
       "  <thead>\n",
       "    <tr style=\"text-align: right;\">\n",
       "      <th></th>\n",
       "      <th>City Name</th>\n",
       "      <th>Observation Time</th>\n",
       "      <th>Temprature</th>\n",
       "      <th>Weather Description</th>\n",
       "      <th>Wind Speed</th>\n",
       "      <th>Wind Degree</th>\n",
       "      <th>Wind Direction</th>\n",
       "      <th>Pressure</th>\n",
       "      <th>Humidity</th>\n",
       "      <th>UV index</th>\n",
       "    </tr>\n",
       "  </thead>\n",
       "  <tbody>\n",
       "    <tr>\n",
       "      <th>0</th>\n",
       "      <td>New York</td>\n",
       "      <td>03:57 PM</td>\n",
       "      <td>0</td>\n",
       "      <td>Sunny</td>\n",
       "      <td>4</td>\n",
       "      <td>302</td>\n",
       "      <td>WNW</td>\n",
       "      <td>1033</td>\n",
       "      <td>63</td>\n",
       "      <td>1</td>\n",
       "    </tr>\n",
       "  </tbody>\n",
       "</table>\n",
       "</div>"
      ],
      "text/plain": [
       "  City Name Observation Time  Temprature Weather Description  Wind Speed  \\\n",
       "0  New York         03:57 PM           0               Sunny           4   \n",
       "\n",
       "   Wind Degree Wind Direction  Pressure  Humidity  UV index  \n",
       "0          302            WNW      1033        63         1  "
      ]
     },
     "execution_count": 9,
     "metadata": {},
     "output_type": "execute_result"
    }
   ],
   "source": [
    "#this api returns the current weather in New Yourk city\n",
    "import requests\n",
    "import pandas as pd\n",
    "res =requests.get(\"https://api.weatherstack.com/current?access_key=a060c1106f4846988940ba688bf7af1c&query=New%20York\")\n",
    "my_data = res.json()\n",
    "\n",
    "city_name = my_data[\"location\"][\"name\"]\n",
    "observation_time = my_data[\"current\"][\"observation_time\"]\n",
    "temprature = my_data[\"current\"][\"temperature\"]\n",
    "weather_description = my_data[\"current\"][\"weather_descriptions\"][0]\n",
    "wind_speed = my_data[\"current\"][\"wind_speed\"]\n",
    "wind_degree = my_data[\"current\"][\"wind_degree\"]\n",
    "wind_dir = my_data[\"current\"][\"wind_dir\"]\n",
    "pressure = my_data[\"current\"][\"pressure\"]\n",
    "humidity = my_data[\"current\"][\"humidity\"]\n",
    "uv_index = my_data[\"current\"][\"uv_index\"]\n",
    "with open(\"weather.csv\", mode=\"w\", encoding=\"utf-8\")as fd:\n",
    "    fd.write(\"City Name,Observation Time,Temprature,Weather Description,Wind Speed,Wind Degree,Wind Direction,Pressure,Humidity,UV index\\n\")\n",
    "    fd.write(f\"{city_name},{observation_time},{temprature},{weather_description},{wind_speed},{wind_degree},{wind_dir},{pressure},{humidity},{uv_index}\\n\")\n",
    "weather_df = pd.read_csv(\"weather.csv\")    \n",
    "weather_df\n"
   ]
  },
  {
   "cell_type": "code",
   "execution_count": 7,
   "metadata": {},
   "outputs": [
    {
     "name": "stdout",
     "output_type": "stream",
     "text": [
      "The amount is 50.873 EGP\n"
     ]
    }
   ],
   "source": [
    "#discard this task\n",
    "import requests\n",
    "from bs4 import BeautifulSoup\n",
    "res = requests.get(\"https://www.exchangerates.org.uk/Dollars-to-Egyptian-Pounds-currency-conversion-page.html\")\n",
    "res.text\n",
    "soup = BeautifulSoup(res.text,\"html.parser\")\n",
    "usd = soup.find('span', id='shd2a')\n",
    "egp = soup.find('span', id='shd2b;')\n",
    "#USD = usd.text\n",
    "#EGP = egp.text\n",
    "user_input = int(input(\"please enter amount of the currency in dollars\"))\n",
    "result = user_input * 50.873\n",
    "#result = user_input * int(USD)\n",
    "print(f\"The amount is {result} EGP\")\n"
   ]
  },
  {
   "cell_type": "code",
   "execution_count": 3,
   "metadata": {},
   "outputs": [
    {
     "data": {
      "text/plain": [
       "'14°C'"
      ]
     },
     "execution_count": 3,
     "metadata": {},
     "output_type": "execute_result"
    }
   ],
   "source": [
    "import requests\n",
    "from bs4 import BeautifulSoup\n",
    "res = requests.get(\"https://forecast.weather.gov/MapClick.php?lat=37.7772&lon=-122.4168\")\n",
    "res.text\n",
    "soup =BeautifulSoup(res.text,\"html.parser\")\n",
    "temp = soup.find(\"p\" , class_=\"myforecast-current-sm\")\n",
    "content = temp.text\n",
    "content"
   ]
  }
 ],
 "metadata": {
  "kernelspec": {
   "display_name": "base",
   "language": "python",
   "name": "python3"
  },
  "language_info": {
   "codemirror_mode": {
    "name": "ipython",
    "version": 3
   },
   "file_extension": ".py",
   "mimetype": "text/x-python",
   "name": "python",
   "nbconvert_exporter": "python",
   "pygments_lexer": "ipython3",
   "version": "3.7.6"
  }
 },
 "nbformat": 4,
 "nbformat_minor": 2
}
